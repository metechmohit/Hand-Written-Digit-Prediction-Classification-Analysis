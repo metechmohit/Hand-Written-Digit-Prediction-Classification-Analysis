{
  "nbformat": 4,
  "nbformat_minor": 0,
  "metadata": {
    "colab": {
      "provenance": []
    },
    "kernelspec": {
      "name": "python3",
      "display_name": "Python 3"
    },
    "language_info": {
      "name": "python"
    }
  },
  "cells": [
    {
      "cell_type": "markdown",
      "source": [
        "## **Hand Written Digit Prediction-Classification Analysis**"
      ],
      "metadata": {
        "id": "6F7YxZ3R5nFx"
      }
    },
    {
      "cell_type": "markdown",
      "source": [
        "##### The digits dataset consists of 8x8 pixel images of digits. The images attribute of dataset stores 8x8 arrays of grayscale values for each image. We will use these arrays to visualize the first 4 images.The target attribute of the dataset stores the digit each image represents."
      ],
      "metadata": {
        "id": "oN_JLOG95lvC"
      }
    },
    {
      "cell_type": "markdown",
      "source": [
        "## Import Library"
      ],
      "metadata": {
        "id": "t6Uvb9of60AJ"
      }
    },
    {
      "cell_type": "code",
      "source": [
        "import pandas as pd"
      ],
      "metadata": {
        "id": "zBMgFzDw66yT"
      },
      "execution_count": 1,
      "outputs": []
    },
    {
      "cell_type": "code",
      "source": [
        "import numpy as np"
      ],
      "metadata": {
        "id": "zy-FPRHY7AMl"
      },
      "execution_count": 2,
      "outputs": []
    },
    {
      "cell_type": "code",
      "source": [
        "import matplotlib.pyplot as plt"
      ],
      "metadata": {
        "id": "iBiF3INO7CLA"
      },
      "execution_count": 3,
      "outputs": []
    },
    {
      "cell_type": "markdown",
      "source": [
        "# Import Data\n"
      ],
      "metadata": {
        "id": "zExkiQz47KaV"
      }
    },
    {
      "cell_type": "code",
      "source": [
        "from sklearn.datasets import load_digits"
      ],
      "metadata": {
        "id": "hYrM-my17QkG"
      },
      "execution_count": 4,
      "outputs": []
    },
    {
      "cell_type": "code",
      "source": [
        "df = load_digits()"
      ],
      "metadata": {
        "id": "8YK0-Jw_7asZ"
      },
      "execution_count": 5,
      "outputs": []
    },
    {
      "cell_type": "code",
      "source": [
        "_, axes = plt.subplots(nrows=1, ncols=4, figsize=(10,3))\n",
        "for ax, image, label in zip(axes, df.images, df.target):\n",
        "  ax.set_axis_off()\n",
        "  ax.imshow(image, cmap=plt.cm.gray_r, interpolation=\"nearest\")\n",
        "  ax.set_title(\"Training: %i\" % label)"
      ],
      "metadata": {
        "colab": {
          "base_uri": "https://localhost:8080/",
          "height": 227
        },
        "id": "IMY0W9sl7ep7",
        "outputId": "272e1332-6011-4aa1-be79-97b824174468"
      },
      "execution_count": 6,
      "outputs": [
        {
          "output_type": "display_data",
          "data": {
            "text/plain": [
              "<Figure size 1000x300 with 4 Axes>"
            ],
            "image/png": "[encoded data removed]"
          },
          "metadata": {}
        }
      ]
    },
    {
      "cell_type": "markdown",
      "source": [
        "# Data Preprocessing"
      ],
      "metadata": {
        "id": "nAQcfvC08uPz"
      }
    },
    {
      "cell_type": "markdown",
      "source": [
        "### Flatten Image\n"
      ],
      "metadata": {
        "id": "tKrYWxyG9Ejr"
      }
    },
    {
      "cell_type": "code",
      "source": [
        "df.images.shape"
      ],
      "metadata": {
        "colab": {
          "base_uri": "https://localhost:8080/"
        },
        "id": "AoI9fYrQ9Fzh",
        "outputId": "8949b923-82ff-43a5-a970-e9fb05a8dcab"
      },
      "execution_count": 8,
      "outputs": [
        {
          "output_type": "execute_result",
          "data": {
            "text/plain": [
              "(1797, 8, 8)"
            ]
          },
          "metadata": {},
          "execution_count": 8
        }
      ]
    },
    {
      "cell_type": "code",
      "source": [
        "df.images[0]"
      ],
      "metadata": {
        "colab": {
          "base_uri": "https://localhost:8080/"
        },
        "id": "ckeW1tFV9XZe",
        "outputId": "7904474f-f104-4810-bdcc-91f652c93185"
      },
      "execution_count": 9,
      "outputs": [
        {
          "output_type": "execute_result",
          "data": {
            "text/plain": [
              "array([[ 0.,  0.,  5., 13.,  9.,  1.,  0.,  0.],\n",
              "       [ 0.,  0., 13., 15., 10., 15.,  5.,  0.],\n",
              "       [ 0.,  3., 15.,  2.,  0., 11.,  8.,  0.],\n",
              "       [ 0.,  4., 12.,  0.,  0.,  8.,  8.,  0.],\n",
              "       [ 0.,  5.,  8.,  0.,  0.,  9.,  8.,  0.],\n",
              "       [ 0.,  4., 11.,  0.,  1., 12.,  7.,  0.],\n",
              "       [ 0.,  2., 14.,  5., 10., 12.,  0.,  0.],\n",
              "       [ 0.,  0.,  6., 13., 10.,  0.,  0.,  0.]])"
            ]
          },
          "metadata": {},
          "execution_count": 9
        }
      ]
    },
    {
      "cell_type": "code",
      "source": [
        "df.images[0].shape"
      ],
      "metadata": {
        "colab": {
          "base_uri": "https://localhost:8080/"
        },
        "id": "GOJD9V2T9aGB",
        "outputId": "0a17a5ef-8281-4e23-c5f9-e916a29b434e"
      },
      "execution_count": 10,
      "outputs": [
        {
          "output_type": "execute_result",
          "data": {
            "text/plain": [
              "(8, 8)"
            ]
          },
          "metadata": {},
          "execution_count": 10
        }
      ]
    },
    {
      "cell_type": "code",
      "source": [
        "len(df.images)"
      ],
      "metadata": {
        "colab": {
          "base_uri": "https://localhost:8080/"
        },
        "id": "eUT6e_hO9fzL",
        "outputId": "0c0a74c8-fb5f-4369-e3f9-d0770b4b547f"
      },
      "execution_count": 11,
      "outputs": [
        {
          "output_type": "execute_result",
          "data": {
            "text/plain": [
              "1797"
            ]
          },
          "metadata": {},
          "execution_count": 11
        }
      ]
    },
    {
      "cell_type": "code",
      "source": [
        "n_samples = len(df.images)\n",
        "data = df.images.reshape((n_samples, -1))"
      ],
      "metadata": {
        "id": "TWD6m3YL9trG"
      },
      "execution_count": 15,
      "outputs": []
    },
    {
      "cell_type": "code",
      "source": [
        "data.shape"
      ],
      "metadata": {
        "colab": {
          "base_uri": "https://localhost:8080/"
        },
        "id": "gQMozo6X9ysb",
        "outputId": "e5abd4eb-0ee0-461c-f516-ad2a1a36a454"
      },
      "execution_count": 16,
      "outputs": [
        {
          "output_type": "execute_result",
          "data": {
            "text/plain": [
              "(1797, 64)"
            ]
          },
          "metadata": {},
          "execution_count": 16
        }
      ]
    },
    {
      "cell_type": "markdown",
      "source": [
        "# Scaling Image Data** **bold text"
      ],
      "metadata": {
        "id": "2CJhwYWH-HB1"
      }
    },
    {
      "cell_type": "code",
      "source": [
        "data.min()"
      ],
      "metadata": {
        "colab": {
          "base_uri": "https://localhost:8080/"
        },
        "id": "iwhyIzp3-N6G",
        "outputId": "d3139432-ba13-4d30-e18e-830d7842abcf"
      },
      "execution_count": 17,
      "outputs": [
        {
          "output_type": "execute_result",
          "data": {
            "text/plain": [
              "0.0"
            ]
          },
          "metadata": {},
          "execution_count": 17
        }
      ]
    },
    {
      "cell_type": "code",
      "source": [
        "data.max()"
      ],
      "metadata": {
        "colab": {
          "base_uri": "https://localhost:8080/"
        },
        "id": "fuBR8AoC-arY",
        "outputId": "87f89b9c-6e40-4120-9075-8c813f05de22"
      },
      "execution_count": 18,
      "outputs": [
        {
          "output_type": "execute_result",
          "data": {
            "text/plain": [
              "16.0"
            ]
          },
          "metadata": {},
          "execution_count": 18
        }
      ]
    },
    {
      "cell_type": "code",
      "source": [
        "data = data/16"
      ],
      "metadata": {
        "id": "erz7RxbN-cEB"
      },
      "execution_count": 19,
      "outputs": []
    },
    {
      "cell_type": "code",
      "source": [
        "data.min()"
      ],
      "metadata": {
        "colab": {
          "base_uri": "https://localhost:8080/"
        },
        "id": "dumpq8ID-gXE",
        "outputId": "098a4ad5-bbca-4bd9-9662-2f121432f258"
      },
      "execution_count": 20,
      "outputs": [
        {
          "output_type": "execute_result",
          "data": {
            "text/plain": [
              "0.0"
            ]
          },
          "metadata": {},
          "execution_count": 20
        }
      ]
    },
    {
      "cell_type": "code",
      "source": [
        "data.max()"
      ],
      "metadata": {
        "colab": {
          "base_uri": "https://localhost:8080/"
        },
        "id": "gNELgm2W-huu",
        "outputId": "aad7dbe6-3b7a-430d-aa8f-782a676e15b4"
      },
      "execution_count": 21,
      "outputs": [
        {
          "output_type": "execute_result",
          "data": {
            "text/plain": [
              "1.0"
            ]
          },
          "metadata": {},
          "execution_count": 21
        }
      ]
    },
    {
      "cell_type": "code",
      "source": [
        "data[0]"
      ],
      "metadata": {
        "colab": {
          "base_uri": "https://localhost:8080/"
        },
        "id": "HGncnjzZ-4QV",
        "outputId": "f82bc875-4af8-482f-ace0-46c19fe395c4"
      },
      "execution_count": 22,
      "outputs": [
        {
          "output_type": "execute_result",
          "data": {
            "text/plain": [
              "array([0.    , 0.    , 0.3125, 0.8125, 0.5625, 0.0625, 0.    , 0.    ,\n",
              "       0.    , 0.    , 0.8125, 0.9375, 0.625 , 0.9375, 0.3125, 0.    ,\n",
              "       0.    , 0.1875, 0.9375, 0.125 , 0.    , 0.6875, 0.5   , 0.    ,\n",
              "       0.    , 0.25  , 0.75  , 0.    , 0.    , 0.5   , 0.5   , 0.    ,\n",
              "       0.    , 0.3125, 0.5   , 0.    , 0.    , 0.5625, 0.5   , 0.    ,\n",
              "       0.    , 0.25  , 0.6875, 0.    , 0.0625, 0.75  , 0.4375, 0.    ,\n",
              "       0.    , 0.125 , 0.875 , 0.3125, 0.625 , 0.75  , 0.    , 0.    ,\n",
              "       0.    , 0.    , 0.375 , 0.8125, 0.625 , 0.    , 0.    , 0.    ])"
            ]
          },
          "metadata": {},
          "execution_count": 22
        }
      ]
    },
    {
      "cell_type": "markdown",
      "source": [
        "# Train Test Split Daata"
      ],
      "metadata": {
        "id": "eHg-V75b_LMb"
      }
    },
    {
      "cell_type": "code",
      "source": [
        "from sklearn.model_selection import train_test_split"
      ],
      "metadata": {
        "id": "0c1wz03vALI0"
      },
      "execution_count": 27,
      "outputs": []
    },
    {
      "cell_type": "code",
      "source": [
        "X_train, X_test, y_train, y_test = train_test_split(data, df.target, test_size=0.3)"
      ],
      "metadata": {
        "id": "-He8z4PSALQm"
      },
      "execution_count": 30,
      "outputs": []
    },
    {
      "cell_type": "code",
      "source": [
        "X_train.shape, X_test.shape, y_train.shape, y_test.shape"
      ],
      "metadata": {
        "colab": {
          "base_uri": "https://localhost:8080/"
        },
        "id": "r9hdplcbALcJ",
        "outputId": "7f9216c8-495d-4c3a-99f3-6ebd7d360112"
      },
      "execution_count": 31,
      "outputs": [
        {
          "output_type": "execute_result",
          "data": {
            "text/plain": [
              "((1257, 64), (540, 64), (1257,), (540,))"
            ]
          },
          "metadata": {},
          "execution_count": 31
        }
      ]
    },
    {
      "cell_type": "markdown",
      "source": [
        "# Random Forest Model"
      ],
      "metadata": {
        "id": "gi4rWTsPAy5m"
      }
    },
    {
      "cell_type": "code",
      "source": [
        "from sklearn.ensemble import RandomForestClassifier"
      ],
      "metadata": {
        "id": "IkVsyeal_R8N"
      },
      "execution_count": 23,
      "outputs": []
    },
    {
      "cell_type": "code",
      "source": [
        "rf = RandomForestClassifier()"
      ],
      "metadata": {
        "id": "BHDoa8oV_vAQ"
      },
      "execution_count": 32,
      "outputs": []
    },
    {
      "cell_type": "code",
      "source": [
        "rf.fit(X_train, y_train)"
      ],
      "metadata": {
        "colab": {
          "base_uri": "https://localhost:8080/",
          "height": 74
        },
        "id": "KcBgcwDq_0Oo",
        "outputId": "e4b47996-f407-4255-a005-872fe8fbb216"
      },
      "execution_count": 34,
      "outputs": [
        {
          "output_type": "execute_result",
          "data": {
            "text/plain": [
              "RandomForestClassifier()"
            ],
            "text/html": [
              "<style>#sk-container-id-1 {color: black;background-color: white;}#sk-container-id-1 pre{padding: 0;}#sk-container-id-1 div.sk-toggleable {background-color: white;}#sk-container-id-1 label.sk-toggleable__label {cursor: pointer;display: block;width: 100%;margin-bottom: 0;padding: 0.3em;box-sizing: border-box;text-align: center;}#sk-container-id-1 label.sk-toggleable__label-arrow:before {content: \"▸\";float: left;margin-right: 0.25em;color: #696969;}#sk-container-id-1 label.sk-toggleable__label-arrow:hover:before {color: black;}#sk-container-id-1 div.sk-estimator:hover label.sk-toggleable__label-arrow:before {color: black;}#sk-container-id-1 div.sk-toggleable__content {max-height: 0;max-width: 0;overflow: hidden;text-align: left;background-color: #f0f8ff;}#sk-container-id-1 div.sk-toggleable__content pre {margin: 0.2em;color: black;border-radius: 0.25em;background-color: #f0f8ff;}#sk-container-id-1 input.sk-toggleable__control:checked~div.sk-toggleable__content {max-height: 200px;max-width: 100%;overflow: auto;}#sk-container-id-1 input.sk-toggleable__control:checked~label.sk-toggleable__label-arrow:before {content: \"▾\";}#sk-container-id-1 div.sk-estimator input.sk-toggleable__control:checked~label.sk-toggleable__label {background-color: #d4ebff;}#sk-container-id-1 div.sk-label input.sk-toggleable__control:checked~label.sk-toggleable__label {background-color: #d4ebff;}#sk-container-id-1 input.sk-hidden--visually {border: 0;clip: rect(1px 1px 1px 1px);clip: rect(1px, 1px, 1px, 1px);height: 1px;margin: -1px;overflow: hidden;padding: 0;position: absolute;width: 1px;}#sk-container-id-1 div.sk-estimator {font-family: monospace;background-color: #f0f8ff;border: 1px dotted black;border-radius: 0.25em;box-sizing: border-box;margin-bottom: 0.5em;}#sk-container-id-1 div.sk-estimator:hover {background-color: #d4ebff;}#sk-container-id-1 div.sk-parallel-item::after {content: \"\";width: 100%;border-bottom: 1px solid gray;flex-grow: 1;}#sk-container-id-1 div.sk-label:hover label.sk-toggleable__label {background-color: #d4ebff;}#sk-container-id-1 div.sk-serial::before {content: \"\";position: absolute;border-left: 1px solid gray;box-sizing: border-box;top: 0;bottom: 0;left: 50%;z-index: 0;}#sk-container-id-1 div.sk-serial {display: flex;flex-direction: column;align-items: center;background-color: white;padding-right: 0.2em;padding-left: 0.2em;position: relative;}#sk-container-id-1 div.sk-item {position: relative;z-index: 1;}#sk-container-id-1 div.sk-parallel {display: flex;align-items: stretch;justify-content: center;background-color: white;position: relative;}#sk-container-id-1 div.sk-item::before, #sk-container-id-1 div.sk-parallel-item::before {content: \"\";position: absolute;border-left: 1px solid gray;box-sizing: border-box;top: 0;bottom: 0;left: 50%;z-index: -1;}#sk-container-id-1 div.sk-parallel-item {display: flex;flex-direction: column;z-index: 1;position: relative;background-color: white;}#sk-container-id-1 div.sk-parallel-item:first-child::after {align-self: flex-end;width: 50%;}#sk-container-id-1 div.sk-parallel-item:last-child::after {align-self: flex-start;width: 50%;}#sk-container-id-1 div.sk-parallel-item:only-child::after {width: 0;}#sk-container-id-1 div.sk-dashed-wrapped {border: 1px dashed gray;margin: 0 0.4em 0.5em 0.4em;box-sizing: border-box;padding-bottom: 0.4em;background-color: white;}#sk-container-id-1 div.sk-label label {font-family: monospace;font-weight: bold;display: inline-block;line-height: 1.2em;}#sk-container-id-1 div.sk-label-container {text-align: center;}#sk-container-id-1 div.sk-container {/* jupyter's `normalize.less` sets `[hidden] { display: none; }` but bootstrap.min.css set `[hidden] { display: none !important; }` so we also need the `!important` here to be able to override the default hidden behavior on the sphinx rendered scikit-learn.org. See: https://github.com/scikit-learn/scikit-learn/issues/21755 */display: inline-block !important;position: relative;}#sk-container-id-1 div.sk-text-repr-fallback {display: none;}</style><div id=\"sk-container-id-1\" class=\"sk-top-container\"><div class=\"sk-text-repr-fallback\"><pre>RandomForestClassifier()</pre><b>In a Jupyter environment, please rerun this cell to show the HTML representation or trust the notebook. <br />On GitHub, the HTML representation is unable to render, please try loading this page with nbviewer.org.</b></div><div class=\"sk-container\" hidden><div class=\"sk-item\"><div class=\"sk-estimator sk-toggleable\"><input class=\"sk-toggleable__control sk-hidden--visually\" id=\"sk-estimator-id-1\" type=\"checkbox\" checked><label for=\"sk-estimator-id-1\" class=\"sk-toggleable__label sk-toggleable__label-arrow\">RandomForestClassifier</label><div class=\"sk-toggleable__content\"><pre>RandomForestClassifier()</pre></div></div></div></div></div>"
            ]
          },
          "metadata": {},
          "execution_count": 34
        }
      ]
    },
    {
      "cell_type": "markdown",
      "source": [
        "# Predict Test Data"
      ],
      "metadata": {
        "id": "WN_lYJhhA_YI"
      }
    },
    {
      "cell_type": "code",
      "source": [
        "y_pred = rf.predict(X_test)"
      ],
      "metadata": {
        "id": "NR4gzIoXBG3w"
      },
      "execution_count": 36,
      "outputs": []
    },
    {
      "cell_type": "code",
      "source": [
        "y_pred"
      ],
      "metadata": {
        "colab": {
          "base_uri": "https://localhost:8080/"
        },
        "id": "2S9zj0WzBMLp",
        "outputId": "04797deb-fbe3-44bd-8637-0dc0c968c704"
      },
      "execution_count": 37,
      "outputs": [
        {
          "output_type": "execute_result",
          "data": {
            "text/plain": [
              "array([5, 4, 7, 8, 7, 3, 7, 2, 8, 3, 0, 4, 7, 3, 0, 6, 3, 5, 1, 7, 0, 3,\n",
              "       7, 9, 5, 7, 8, 7, 4, 2, 3, 5, 7, 3, 6, 3, 2, 0, 1, 8, 8, 1, 4, 1,\n",
              "       0, 4, 2, 7, 6, 9, 3, 7, 3, 6, 0, 1, 4, 4, 8, 5, 4, 8, 5, 4, 6, 2,\n",
              "       7, 2, 0, 9, 3, 0, 1, 5, 4, 6, 0, 1, 7, 5, 7, 9, 9, 6, 2, 5, 5, 4,\n",
              "       5, 8, 1, 7, 3, 1, 6, 3, 1, 1, 5, 8, 2, 7, 4, 5, 7, 9, 4, 9, 2, 3,\n",
              "       9, 3, 1, 7, 6, 3, 1, 5, 0, 2, 2, 5, 8, 6, 1, 0, 0, 5, 4, 8, 8, 3,\n",
              "       8, 2, 0, 2, 2, 5, 1, 5, 3, 9, 0, 7, 0, 8, 6, 5, 9, 6, 4, 0, 0, 7,\n",
              "       4, 5, 7, 6, 5, 9, 3, 6, 8, 1, 4, 5, 5, 7, 0, 5, 1, 1, 3, 5, 1, 5,\n",
              "       6, 5, 7, 2, 1, 1, 3, 2, 3, 3, 8, 3, 1, 1, 7, 9, 3, 8, 9, 1, 9, 4,\n",
              "       9, 2, 3, 4, 7, 1, 7, 6, 7, 5, 4, 4, 4, 7, 7, 5, 5, 3, 5, 8, 3, 6,\n",
              "       3, 6, 0, 4, 6, 1, 7, 4, 6, 3, 0, 8, 4, 3, 7, 6, 7, 7, 1, 1, 5, 9,\n",
              "       4, 0, 7, 2, 6, 4, 9, 1, 9, 9, 3, 2, 9, 0, 5, 5, 4, 6, 4, 3, 5, 5,\n",
              "       9, 9, 5, 1, 1, 8, 7, 3, 8, 7, 7, 2, 9, 0, 8, 6, 4, 3, 0, 2, 5, 7,\n",
              "       2, 8, 8, 1, 6, 5, 8, 9, 5, 9, 1, 4, 2, 1, 5, 9, 2, 8, 9, 4, 1, 0,\n",
              "       1, 5, 2, 6, 2, 0, 9, 0, 7, 8, 3, 4, 9, 7, 7, 2, 8, 2, 6, 5, 2, 8,\n",
              "       4, 7, 1, 8, 0, 0, 3, 4, 6, 1, 0, 3, 6, 2, 2, 4, 1, 3, 7, 6, 1, 9,\n",
              "       3, 1, 7, 5, 7, 5, 7, 7, 1, 9, 0, 5, 5, 6, 6, 4, 3, 7, 2, 0, 2, 2,\n",
              "       9, 7, 4, 1, 7, 2, 6, 4, 6, 7, 9, 4, 0, 8, 5, 5, 5, 6, 6, 0, 0, 7,\n",
              "       9, 5, 7, 0, 3, 6, 8, 6, 5, 3, 3, 7, 4, 9, 2, 6, 4, 3, 8, 0, 2, 6,\n",
              "       4, 1, 9, 8, 4, 7, 6, 8, 1, 7, 8, 4, 5, 1, 3, 6, 0, 7, 1, 6, 3, 1,\n",
              "       6, 9, 2, 3, 9, 4, 0, 9, 5, 3, 0, 7, 1, 1, 1, 7, 0, 0, 7, 6, 3, 8,\n",
              "       5, 6, 4, 7, 6, 1, 3, 8, 2, 7, 6, 0, 3, 9, 8, 7, 2, 4, 9, 7, 1, 2,\n",
              "       7, 9, 1, 4, 9, 8, 0, 3, 0, 9, 6, 8, 8, 1, 0, 0, 0, 4, 6, 6, 3, 6,\n",
              "       3, 3, 5, 7, 5, 2, 9, 2, 3, 2, 0, 2, 0, 9, 6, 7, 8, 1, 7, 2, 9, 0,\n",
              "       0, 6, 4, 6, 0, 2, 4, 4, 2, 5, 1, 2])"
            ]
          },
          "metadata": {},
          "execution_count": 37
        }
      ]
    },
    {
      "cell_type": "markdown",
      "source": [
        "# Model Accuracy"
      ],
      "metadata": {
        "id": "TKPjGFFTBUvS"
      }
    },
    {
      "cell_type": "code",
      "source": [
        "from sklearn.metrics import confusion_matrix, classification_report"
      ],
      "metadata": {
        "id": "WFjobEp-BPTy"
      },
      "execution_count": 43,
      "outputs": []
    },
    {
      "cell_type": "code",
      "source": [
        "confusion_matrix(y_test, y_pred)"
      ],
      "metadata": {
        "colab": {
          "base_uri": "https://localhost:8080/"
        },
        "id": "vc7Tlp8PBfVZ",
        "outputId": "882ba97a-444d-426d-862e-608abfa5c7a0"
      },
      "execution_count": 44,
      "outputs": [
        {
          "output_type": "execute_result",
          "data": {
            "text/plain": [
              "array([[53,  0,  0,  0,  1,  0,  0,  0,  0,  0],\n",
              "       [ 0, 54,  0,  0,  0,  0,  0,  0,  0,  0],\n",
              "       [ 0,  0, 48,  0,  0,  0,  0,  0,  0,  0],\n",
              "       [ 0,  0,  0, 55,  0,  0,  0,  1,  1,  0],\n",
              "       [ 0,  0,  0,  0, 52,  0,  0,  2,  0,  1],\n",
              "       [ 0,  0,  0,  1,  0, 56,  0,  0,  0,  1],\n",
              "       [ 0,  0,  0,  0,  0,  0, 55,  0,  0,  0],\n",
              "       [ 0,  0,  0,  0,  0,  0,  0, 64,  0,  0],\n",
              "       [ 0,  3,  1,  0,  0,  1,  0,  1, 42,  0],\n",
              "       [ 0,  0,  0,  1,  0,  1,  0,  0,  0, 45]])"
            ]
          },
          "metadata": {},
          "execution_count": 44
        }
      ]
    },
    {
      "cell_type": "code",
      "source": [
        "print(classification_report(y_test, y_pred))"
      ],
      "metadata": {
        "colab": {
          "base_uri": "https://localhost:8080/"
        },
        "id": "yzjBFfobBkby",
        "outputId": "5d329a0b-1f60-44d7-aee4-2ea2dd54d88d"
      },
      "execution_count": 45,
      "outputs": [
        {
          "output_type": "stream",
          "name": "stdout",
          "text": [
            "              precision    recall  f1-score   support\n",
            "\n",
            "           0       1.00      0.98      0.99        54\n",
            "           1       0.95      1.00      0.97        54\n",
            "           2       0.98      1.00      0.99        48\n",
            "           3       0.96      0.96      0.96        57\n",
            "           4       0.98      0.95      0.96        55\n",
            "           5       0.97      0.97      0.97        58\n",
            "           6       1.00      1.00      1.00        55\n",
            "           7       0.94      1.00      0.97        64\n",
            "           8       0.98      0.88      0.92        48\n",
            "           9       0.96      0.96      0.96        47\n",
            "\n",
            "    accuracy                           0.97       540\n",
            "   macro avg       0.97      0.97      0.97       540\n",
            "weighted avg       0.97      0.97      0.97       540\n",
            "\n"
          ]
        }
      ]
    }
  ]
}